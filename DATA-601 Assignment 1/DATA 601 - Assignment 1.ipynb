{
 "cells": [
  {
   "cell_type": "markdown",
   "metadata": {},
   "source": [
    "# Programming decomposition of course grade\n",
    "Suppose the course grade is based on 30 assignments (each scored 0 to 100), three projects (each scored 0 to 100), and attendance in 15 classes (each scored as present or absent). The assignments account for 30% of the course grade, the projects are 20% each (60% total), and attendance is 10% of the course grade. Suppose 10 of the 30 assignments are included in the final course score. The 10 are randomly selected. Letter grades are defined in the syllabus​.\n",
    "\n",
    "Choose one of the following options:​\n",
    "\n",
    "Describe in writing how you would calculate the course grade for one student. Submit your written description as a text file​\n",
    "Write a program in Python 3 that calculates the final grade for a student. Submit a Jupyter notebook via Blackboard.​ No visualization is required."
   ]
  },
  {
   "cell_type": "code",
   "execution_count": 3,
   "metadata": {},
   "outputs": [
    {
     "name": "stdout",
     "output_type": "stream",
     "text": [
      "Enter assignment 1 score for 100 marks: 100\n",
      "Enter assignment 2 score for 100 marks: 99\n",
      "Enter assignment 3 score for 100 marks: 98\n",
      "Enter assignment 4 score for 100 marks: 97\n",
      "Enter assignment 5 score for 100 marks: 96\n",
      "Enter assignment 6 score for 100 marks: 95\n",
      "Enter assignment 7 score for 100 marks: 94\n",
      "Enter assignment 8 score for 100 marks: 93\n",
      "Enter assignment 9 score for 100 marks: 92\n",
      "Enter assignment 10 score for 100 marks: 91\n",
      "Enter assignment 11 score for 100 marks: 90\n",
      "Enter assignment 12 score for 100 marks: 89\n",
      "Enter assignment 13 score for 100 marks: 88\n",
      "Enter assignment 14 score for 100 marks: 87\n",
      "[100.0, 99.0, 98.0, 97.0, 96.0, 95.0, 94.0, 93.0, 92.0, 91.0, 90.0, 89.0, 88.0, 87.0]\n",
      "Randomly selected ten assignment scores [98.0, 97.0, 95.0, 90.0, 91.0, 89.0, 93.0, 92.0, 100.0, 96.0] for final grade: \n",
      "Sum of the total assignments is 941.0\n",
      "Enter project 1 score for 100 marks:100\n",
      "Enter project 2 score for 100 marks:100\n",
      "Enter project 3 score for 100 marks:100\n",
      "Enter 15 days attendence for 15 marks: 15\n",
      "The Final score is 98.22999999999999%\n",
      "The Final Grade secured is A\n"
     ]
    }
   ],
   "source": [
    "import random\n",
    "import sys\n",
    "temp_list = [] #Temporary empty list created for storing Assignment scores\n",
    "for i in range(1,31):\n",
    "    all_assignments_score = float(input(\"Enter assignment {} score for 100 marks: \".format(i)))\n",
    "    if all_assignments_score >= 0 and all_assignments_score < 101:\n",
    "        temp_list.append(all_assignments_score) #Appends each score to the list if given in range 0 to 100\n",
    "    else:\n",
    "        sys.exit(\"***** Please enter the scores between 0 to 100 *****\") #Ensures the given scores are in range 0 to 100\n",
    "print(temp_list)\n",
    "assignments = random.sample(temp_list,10) #Random.sample function is used to select 10 assignment scores for final grading\n",
    "assignment_score = sum(assignments)\n",
    "print(\"Randomly selected ten assignment scores {} for final grade: \".format(assignments))\n",
    "print(\"Sum of the total assignments is {}\".format(assignment_score))\n",
    "project_list = [] #Temporary empty list created for storing Project scores\n",
    "for i in range(1,4):\n",
    "    all_projects_score = float(input(\"Enter project {} score for 100 marks:\".format(i)))\n",
    "    if all_projects_score >= 0 and all_projects_score < 101:\n",
    "        project_list.append(all_projects_score) #Appends each score to the list if given in range 0 to 100\n",
    "    else:\n",
    "        sys.exit(\"***** Please enter the scores between 0 to 100 *****\") #Ensures the given scores are in range 0 to 100\n",
    "Project_sum = sum(project_list)\n",
    "Attendence = float(input(\"Enter 15 days attendence for 15 marks: \"))\n",
    "final_score = ((assignment_score/1000)*30)+((Project_sum/300)*60)+((Attendence/15)*10) #Given scores evaluated as per the grading system\n",
    "print(\"The Final score is {}%\".format(final_score))\n",
    "if final_score >=90 and final_score <=100 :\n",
    "    print(\"The Final Grade secured is A\")\n",
    "elif final_score >=80 and final_score <90:\n",
    "    print(\"The Final Grade secured is B\")\n",
    "elif final_score >=70 and final_score <80:\n",
    "    print(\"The Final Grade secured is C\")\n",
    "elif final_score >=60 and final_score <70:\n",
    "    print(\"The Final Grade secured is D\")\n",
    "else:\n",
    "    print(\"The Final Grade secured is F\")"
   ]
  },
  {
   "cell_type": "code",
   "execution_count": null,
   "metadata": {},
   "outputs": [],
   "source": []
  }
 ],
 "metadata": {
  "kernelspec": {
   "display_name": "Python 3",
   "language": "python",
   "name": "python3"
  },
  "language_info": {
   "codemirror_mode": {
    "name": "ipython",
    "version": 3
   },
   "file_extension": ".py",
   "mimetype": "text/x-python",
   "name": "python",
   "nbconvert_exporter": "python",
   "pygments_lexer": "ipython3",
   "version": "3.7.3"
  }
 },
 "nbformat": 4,
 "nbformat_minor": 2
}
