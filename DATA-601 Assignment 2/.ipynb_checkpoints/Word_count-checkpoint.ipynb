{
 "cells": [
  {
   "cell_type": "markdown",
   "metadata": {},
   "source": [
    "# DATA 601 Introduction to Data Science (03.7420) SP2020\n",
    "## week 2: word count"
   ]
  },
  {
   "cell_type": "code",
   "execution_count": 8,
   "metadata": {},
   "outputs": [
    {
     "name": "stdout",
     "output_type": "stream",
     "text": [
      "Enter a string: good evening sai\n"
     ]
    },
    {
     "data": {
      "text/plain": [
       "('character count is 16', 'Word count is 3')"
      ]
     },
     "execution_count": 8,
     "metadata": {},
     "output_type": "execute_result"
    }
   ],
   "source": [
    "import sys\n",
    "def character_word_count(String_given):\n",
    "    \"\"\"\n",
    "    This function returns the character count\n",
    "    and word count\n",
    "    \"\"\"\n",
    "    character_count = len(String_given) # len() returns the count of charcters in a given string\n",
    "    word_to_list = String_given.split(\" \") # split() function converts given string to list. \" \" seperator is used to count word.\n",
    "    word_count = len(word_to_list) # len() returns count of elements in a string\n",
    "    if String_given.isspace():\n",
    "        sys.exit(\"string not provided\") # Exception handling if string not provided\n",
    "    return \"character count is \"+ str(character_count), \"Word count is \" + str(word_count) # Returns count of char and words.\n",
    "\n",
    "String_input = str(input(\"Enter a string: \"))\n",
    "character_word_count(String_input) # Function call using string as argument"
   ]
  },
  {
   "cell_type": "code",
   "execution_count": null,
   "metadata": {},
   "outputs": [],
   "source": []
  }
 ],
 "metadata": {
  "kernelspec": {
   "display_name": "Python 3",
   "language": "python",
   "name": "python3"
  },
  "language_info": {
   "codemirror_mode": {
    "name": "ipython",
    "version": 3
   },
   "file_extension": ".py",
   "mimetype": "text/x-python",
   "name": "python",
   "nbconvert_exporter": "python",
   "pygments_lexer": "ipython3",
   "version": "3.7.3"
  }
 },
 "nbformat": 4,
 "nbformat_minor": 2
}
