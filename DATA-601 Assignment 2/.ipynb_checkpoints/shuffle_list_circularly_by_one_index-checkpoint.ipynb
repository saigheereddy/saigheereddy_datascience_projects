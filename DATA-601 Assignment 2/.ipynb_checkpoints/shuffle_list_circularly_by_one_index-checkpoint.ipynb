{
 "cells": [
  {
   "cell_type": "markdown",
   "metadata": {},
   "source": [
    "# DATA 601 Introduction to Data Science (03.7420) SP2020\n",
    "# Week-2 Assignment: shuffle list"
   ]
  },
  {
   "cell_type": "code",
   "execution_count": 53,
   "metadata": {},
   "outputs": [
    {
     "name": "stdout",
     "output_type": "stream",
     "text": [
      "Enter the number of elements in the list: 3\n",
      "Enter the 1 element: 1\n",
      "Enter the 2 element: 2\n",
      "Enter the 3 element: 3\n",
      "Initial list is ['1', '2', '3']\n",
      "The shuffled list is: ['3', '1', '2']\n"
     ]
    }
   ],
   "source": [
    "def list_shuffle(Shifted_list):\n",
    "    \"\"\"\n",
    "    This function takes list as argument,\n",
    "    returns the circularly shuffled list by 1 index.\n",
    "    \"\"\"\n",
    "    n = len(Shifted_list)\n",
    "    last_element = Shifted_list[n-1]\n",
    "    for i in range(n-2,-1,-1):\n",
    "        Shifted_list[i+1] = Shifted_list[i]\n",
    "    Shifted_list[0] = last_element\n",
    "    return Shifted_list\n",
    "\n",
    "try:\n",
    "    Initial_list = [] # Temporary list\n",
    "    n = int(input(\"Enter the number of elements in the list: \")) # Input for number of elements in the list\n",
    "    for i in range(1, n+1):\n",
    "        x = str(input(\"Enter the {} element: \".format(i))) # Appending each element to temporary list\n",
    "        Initial_list.append(x)\n",
    "    print(\"Initial list is {}\".format(Initial_list))\n",
    "\n",
    "    print(\"The shuffled list is: {}\".format(list_shuffle(Initial_list)))# Calling \"list_shuffled\" function for shuffled list\n",
    "except TypeError:\n",
    "    print(\"********* Please provide a list argument to function: list_shuffle **********\") # Error handling if list is not passed to function"
   ]
  }
 ],
 "metadata": {
  "kernelspec": {
   "display_name": "Python 3",
   "language": "python",
   "name": "python3"
  },
  "language_info": {
   "codemirror_mode": {
    "name": "ipython",
    "version": 3
   },
   "file_extension": ".py",
   "mimetype": "text/x-python",
   "name": "python",
   "nbconvert_exporter": "python",
   "pygments_lexer": "ipython3",
   "version": "3.7.3"
  }
 },
 "nbformat": 4,
 "nbformat_minor": 2
}
