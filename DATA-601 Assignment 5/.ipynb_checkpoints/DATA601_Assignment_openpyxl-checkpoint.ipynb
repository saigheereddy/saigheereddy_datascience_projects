{
 "cells": [
  {
   "cell_type": "markdown",
   "metadata": {},
   "source": [
    "# DATA 601 Introduction to Data Science (03.7420) SP2020\n",
    "## week 5: openpyxl\n",
    "\n",
    "### Use openpyxl to copy information about patients from \"records\" to \"patient info\". Submit a notebook that reads the Excel spreadsheet and produces a separate Excel file with the modifications:\n",
    "\n",
    "### Observations:\n",
    "##### \"patient info\" worksheet will have new columns (because those new columns exist in the \"records\" worksheet)\n",
    "##### \"patient info\" worksheet will have new rows (one new row per patient)\n",
    "##### There will be empty cells in \"patient info\" worksheet\n",
    "##### Use a programmatic (rather than manual) approach to identify which patients appear in both worksheets\n",
    "##### Some cells in both worksheets contain formulas. Copy only values from \"records\" to \"patient info\""
   ]
  },
  {
   "cell_type": "code",
   "execution_count": 1,
   "metadata": {},
   "outputs": [
    {
     "data": {
      "text/plain": [
       "['patient info', 'records']"
      ]
     },
     "execution_count": 1,
     "metadata": {},
     "output_type": "execute_result"
    }
   ],
   "source": [
    "from zipfile import ZipFile\n",
    "import pandas as pd\n",
    "import openpyxl\n",
    "\n",
    "# please pass zipfile path as argument to the below 'ZipFile()'\n",
    "with ZipFile('week_05_homework_XLSX_openpyxl_file.zip', 'r') as zipObj:\n",
    "   zipObj.extractall()\n",
    "\n",
    "wb = openpyxl.load_workbook('week_05_homework_XLSX_openpyxl.xlsx') # Using openpyxl to load the workbook\n",
    "wb.sheetnames # The excel file contains 2 worksheets"
   ]
  },
  {
   "cell_type": "markdown",
   "metadata": {},
   "source": [
    "#### Storing 'patient info' &  'records' sheets to sheet1 and sheet2 objects"
   ]
  },
  {
   "cell_type": "code",
   "execution_count": 2,
   "metadata": {
    "scrolled": true
   },
   "outputs": [],
   "source": [
    "sheet1 = wb[wb.sheetnames[0]]\n",
    "sheet2 = wb[wb.sheetnames[1]]"
   ]
  },
  {
   "cell_type": "markdown",
   "metadata": {},
   "source": [
    "##### 1) Creating 2 lists s1 and s2\n",
    "##### 2) Storing 'patient id' of 'patient info' sheet to s1 list.\n",
    "##### 3) Storing 'p id' of 'records' sheet to s2 list."
   ]
  },
  {
   "cell_type": "code",
   "execution_count": 3,
   "metadata": {},
   "outputs": [
    {
     "name": "stdout",
     "output_type": "stream",
     "text": [
      "795\n"
     ]
    }
   ],
   "source": [
    "s1 = [] #initializing list for 'patient id'\n",
    "s2 = [] #initializing list for 'p id'\n",
    "\n",
    "for row1 in range(2,sheet1.max_row+1):\n",
    "    sheet1_patient = sheet1.cell(row=row1, column = 1).value # getting each value of 'patient id' and appending to list s1\n",
    "    s1.append(sheet1_patient)\n",
    "for row2 in range(2,sheet2.max_row+1):\n",
    "    sheet2_pid = sheet2.cell(row=row2, column = 1).value # getting each value of 'p id' and appending to list s2\n",
    "    s2.append(sheet2_pid)\n",
    "s3 = list(set(s2)-set(s1)) # Getting p id from sheet 'records' which are not in sheet 'patient info'\n",
    "print(len(s3)) #"
   ]
  },
  {
   "cell_type": "markdown",
   "metadata": {},
   "source": [
    "#### Inserting exclusive patients data from 'records' to 'patient info' to the new sheet"
   ]
  },
  {
   "cell_type": "code",
   "execution_count": 4,
   "metadata": {},
   "outputs": [],
   "source": [
    "for i in range(0, len(s3)):\n",
    "    sheet1.cell(row=sheet1.max_row+1, column = 1).value = s3[i] # Inserting each value from the list s3, we got above."
   ]
  },
  {
   "cell_type": "code",
   "execution_count": 5,
   "metadata": {},
   "outputs": [],
   "source": [
    "# Initilizing varibles of maximum length of rows and columns from each sheet.\n",
    "\n",
    "s1_row_max = sheet1.max_row\n",
    "s2_row_max = sheet2.max_row\n",
    "s2_column_max = sheet2.max_column"
   ]
  },
  {
   "cell_type": "markdown",
   "metadata": {},
   "source": [
    "#### Algorithm:\n",
    "###### 1) Comparing patient_id and p_id values from both the sheets.\n",
    "###### 2) If the match is found appending the entire row to the row of sheet1 patient id.\n",
    "###### 3) All the remaining exclusive patients data is added at the end automatically."
   ]
  },
  {
   "cell_type": "code",
   "execution_count": 6,
   "metadata": {},
   "outputs": [],
   "source": [
    "for row1 in range(2, s1_row_max+1):\n",
    "    sheet1_patient_id = sheet1.cell(row=row1, column = 1).value # Storing each 'patient id' in varible 'sheet1_patient_id'\n",
    "    for row2 in range(2, s2_row_max+1):\n",
    "        sheet2_p_id = sheet2.cell(row = row2, column = 1).value # Storing each 'p id' in varible 'sheet2_p_id'\n",
    "        sheet1.cell(row=1, column = 5+row2).value = sheet2.cell(row=1, column = row2).value\n",
    "        if sheet1_patient_id == sheet2_p_id: # Comparing both the patient ids.\n",
    "            for i in range(1, s2_column_max+1):\n",
    "                # Inserting each value to the sheet 'patient info' from ;'records'\n",
    "                sheet1.cell(row=row1, column = 6+i).value = sheet2.cell(row=row2, column =1+i).value"
   ]
  },
  {
   "cell_type": "markdown",
   "metadata": {},
   "source": [
    "#### New file is store in in file 'modified_patient_info.xlsx'"
   ]
  },
  {
   "cell_type": "code",
   "execution_count": 7,
   "metadata": {},
   "outputs": [],
   "source": [
    "wb.save('modified_patient_info.xlsx') # Saving the modifications to the new .xlsx file."
   ]
  }
 ],
 "metadata": {
  "kernelspec": {
   "display_name": "Python 3",
   "language": "python",
   "name": "python3"
  },
  "language_info": {
   "codemirror_mode": {
    "name": "ipython",
    "version": 3
   },
   "file_extension": ".py",
   "mimetype": "text/x-python",
   "name": "python",
   "nbconvert_exporter": "python",
   "pygments_lexer": "ipython3",
   "version": "3.7.3"
  }
 },
 "nbformat": 4,
 "nbformat_minor": 2
}
