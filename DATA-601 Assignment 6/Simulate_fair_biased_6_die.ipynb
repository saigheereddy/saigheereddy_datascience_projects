{
 "cells": [
  {
   "cell_type": "markdown",
   "metadata": {},
   "source": [
    "# DATA 601 Introduction to Data Science (03.7420) SP2020\n",
    "## week 7: Simulate a fair die and a biased 6-sided die\n",
    "\n",
    "### Assignment Content:\n",
    "\n",
    "### Simulate a fair die and a biased 6-sided die. The biased die has probabilities {0.15, 0.15, 0.15, 0.15, 0.15, 0.25}. Create a visualization that compares outcomes of multiple rolls of a fair die and this biased die. You can use a single visualization or multiple visualizations to demonstrate the difference in outcomes for the dice. The user of your notebook should be able to alter the number of simulations as an argument to a function."
   ]
  },
  {
   "cell_type": "code",
   "execution_count": 1,
   "metadata": {},
   "outputs": [],
   "source": [
    "import random\n",
    "import matplotlib.pyplot as plt\n"
   ]
  },
  {
   "cell_type": "markdown",
   "metadata": {},
   "source": [
    "### Since the probabilites of biased die are given as {0.15, 0.15, 0.15, 0.15, 0.15, 0.25}, each occurance can be distributed in the range of 0 to 1."
   ]
  },
  {
   "cell_type": "code",
   "execution_count": 2,
   "metadata": {},
   "outputs": [],
   "source": [
    "def roll_biased():\n",
    "    \"\"\"\n",
    "    This function returns value result,\n",
    "    based on the random value of random()\n",
    "    \"\"\"\n",
    "    randroll = random.random() #This function returns random float value from range [0,1]\n",
    "    \n",
    "    # From the given probabilities above, each occurance is possible with the range provided below.\n",
    "    if randroll <= 0.15:\n",
    "        result = 1\n",
    "    elif randroll > 0.15 and randroll <= 0.3:\n",
    "        result = 2\n",
    "    elif randroll > 0.3 and randroll <= 0.45:\n",
    "        result = 3\n",
    "    elif randroll > 0.45 and randroll <= 0.6:\n",
    "        result = 4\n",
    "    elif randroll > 0.6 and randroll <= 0.75:\n",
    "        result = 5\n",
    "    elif randroll > 0.75 and randroll <= 1:\n",
    "        result = 6\n",
    "    return result"
   ]
  },
  {
   "cell_type": "code",
   "execution_count": 3,
   "metadata": {},
   "outputs": [],
   "source": [
    "def roll_fair():\n",
    "    \"\"\"\n",
    "    This function returns value result,\n",
    "    based on the random value of random()\n",
    "    \"\"\"\n",
    "    randroll = random.random() #This function returns random float value from range [0,1]\n",
    "    \n",
    "    # The fair die will have equal probability of \"1/6\" for all occurences\n",
    "    if randroll <= 1/6:\n",
    "        result = 1\n",
    "    elif randroll > 1/6 and randroll <= 2/6:\n",
    "        result = 2\n",
    "    elif randroll > 2/6 and randroll <= 3/6:\n",
    "        result = 3\n",
    "    elif randroll > 3/6 and randroll <= 4/6:\n",
    "        result = 4\n",
    "    elif randroll > 4/6 and randroll <= 5/6:\n",
    "        result = 5\n",
    "    elif randroll > 5/6 and randroll <= 6/6:\n",
    "        result = 6\n",
    "    return result"
   ]
  },
  {
   "cell_type": "markdown",
   "metadata": {},
   "source": [
    "### With the increase in number of times of rolling die, we can see the simulation more accurately.\n",
    "\n",
    "#### From the graph, we can see that probabilty of getting 6 is more in biased dice. In the fair dice, number of outcomes of all numbers is similar"
   ]
  },
  {
   "cell_type": "code",
   "execution_count": 4,
   "metadata": {},
   "outputs": [
    {
     "name": "stdout",
     "output_type": "stream",
     "text": [
      "Enter no of times to roll the die: 10000\n"
     ]
    },
    {
     "data": {
      "text/plain": [
       "Text(0, 0.5, 'Count of occurances')"
      ]
     },
     "execution_count": 4,
     "metadata": {},
     "output_type": "execute_result"
    },
    {
     "data": {
      "image/png": "[encoded data removed]",
      "text/plain": [
       "<Figure size 432x288 with 1 Axes>"
      ]
     },
     "metadata": {
      "needs_background": "light"
     },
     "output_type": "display_data"
    },
    {
     "data": {
      "image/png": "[encoded data removed]",
      "text/plain": [
       "<Figure size 432x288 with 1 Axes>"
      ]
     },
     "metadata": {
      "needs_background": "light"
     },
     "output_type": "display_data"
    }
   ],
   "source": [
    "n = int(input('Enter no of times to roll the die: ')) # Input of Number of times to roll the die\n",
    "biased_list = [] # Empty list for appending outcomes of biased die\n",
    "fair_list = [] #Empty list for appending outcomes of fair die\n",
    "\n",
    "# Loop for calling each function and appending each returned value to list\n",
    "for i in range(1, n+1):\n",
    "    a = roll_biased()\n",
    "    b = roll_fair()\n",
    "    biased_list.append(a)\n",
    "    fair_list.append(b)\n",
    "\n",
    "# Counting number of occurances of each number in to dict.\n",
    "dict_1 = {x:biased_list.count(x) for x in biased_list} \n",
    "dict_2 = {x:fair_list.count(x) for x in fair_list}\n",
    "plt.figure()\n",
    "plt.title(\"Simulation of rolling biased die\")\n",
    "plt.xlabel('Numbers on die')\n",
    "plt.ylabel('Count of occurances')\n",
    "plt.bar(dict_1.keys(), dict_1.values()) # Plotting keys(numbers) against the values(number of occurances of that value)\n",
    "plt.figure()\n",
    "plt.title(\"Simulation of rolling fair die\")\n",
    "plt.bar(dict_2.keys(), dict_2.values()) # Plotting keys(numbers) against the values(number of occurances of that value)\n",
    "plt.xlabel('Numbers on die')\n",
    "plt.ylabel('Count of occurances')"
   ]
  },
  {
   "cell_type": "code",
   "execution_count": null,
   "metadata": {},
   "outputs": [],
   "source": []
  }
 ],
 "metadata": {
  "kernelspec": {
   "display_name": "Python 3",
   "language": "python",
   "name": "python3"
  },
  "language_info": {
   "codemirror_mode": {
    "name": "ipython",
    "version": 3
   },
   "file_extension": ".py",
   "mimetype": "text/x-python",
   "name": "python",
   "nbconvert_exporter": "python",
   "pygments_lexer": "ipython3",
   "version": "3.7.3"
  }
 },
 "nbformat": 4,
 "nbformat_minor": 2
}
