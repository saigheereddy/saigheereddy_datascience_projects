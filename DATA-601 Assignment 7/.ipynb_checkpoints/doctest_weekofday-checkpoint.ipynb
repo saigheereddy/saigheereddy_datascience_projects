{
 "cells": [
  {
   "cell_type": "markdown",
   "metadata": {},
   "source": [
    "# DATA 601 Introduction to Data Science (03.7420) SP2020\n",
    "### week 8 - assignment - date conversion function\n",
    "### Assignment Content\n",
    "\n",
    "Complete the function that converts date to day of week\n",
    "\n",
    "The function should pass the doctest"
   ]
  },
  {
   "cell_type": "code",
   "execution_count": 2,
   "metadata": {},
   "outputs": [],
   "source": [
    "# https://kolesnikov.ga/Testing_and_Debugging_Jupyter_Notebooks/\n",
    "import doctest\n",
    "import datetime"
   ]
  },
  {
   "cell_type": "code",
   "execution_count": 3,
   "metadata": {},
   "outputs": [
    {
     "name": "stdout",
     "output_type": "stream",
     "text": [
      "Trying:\n",
      "    convert_datetime_to_dayofweek('Jun 1 2005  1:33PM')\n",
      "Expecting:\n",
      "    'Wednesday'\n",
      "ok\n",
      "Trying:\n",
      "    convert_datetime_to_dayofweek('Oct 25 2012  2:17AM')\n",
      "Expecting:\n",
      "    'Thursday'\n",
      "ok\n",
      "1 items had no tests:\n",
      "    __main__\n",
      "1 items passed all tests:\n",
      "   2 tests in __main__.convert_datetime_to_dayofweek\n",
      "2 tests in 2 items.\n",
      "2 passed and 0 failed.\n",
      "Test passed.\n"
     ]
    }
   ],
   "source": [
    "def convert_datetime_to_dayofweek(datetime_string):\n",
    "    \"\"\"\n",
    "    This function takes date in the format MON DAY YEAR  HH:MM(PM/AM)\n",
    "    and returns the day of the week\n",
    "    Assume input string is UTC\n",
    "    \n",
    "    >>> convert_datetime_to_dayofweek('Jun 1 2005  1:33PM')\n",
    "    'Wednesday'\n",
    "    >>> convert_datetime_to_dayofweek('Oct 25 2012  2:17AM')\n",
    "    'Thursday'\n",
    "    \"\"\"\n",
    "    # your code goes here\n",
    "    \n",
    "    # Initially creating \"month_dict\" dictionary of {month_key:month_number} \n",
    "    month_dict = {'Jan' : 1, 'Feb' : 2, 'Mar' : 3, 'Apr' : 4,\\\n",
    "           'May' : 5, 'Jun' : 6, 'Jul' : 7, 'Aug' : 8,\\\n",
    "           'Sep' : 9, 'Oct' : 10, 'Nov' : 11,'Dec' : 12}\n",
    "    \n",
    "    # All the days in a week are listed in \"weekdays\" list\n",
    "    weekdays = [\"Monday\",\"Tuesday\",\"Wednesday\",\"Thursday\",\"Friday\",\"Saturday\",\"Sunday\"]\n",
    "    \n",
    "    # Split() method splits the string passed to function to list using \" \" as delimiter\n",
    "    datetime_string = datetime_string.split()\n",
    "    \n",
    "    # From the list \"datetime_string\" above, assigning mm,dd,yyyy to cal_month,cal_date,cal_year\n",
    "    cal_month = month_dict[datetime_string[0]]\n",
    "    cal_date = int(datetime_string[1])\n",
    "    cal_year = int(datetime_string[2])\n",
    "    \n",
    "    # weekday() method returns weekday number from datetime(year,month,date)\n",
    "    day_number = datetime.datetime(cal_year,cal_month,cal_date).weekday()\n",
    "    dayofweek = weekdays[day_number]\n",
    "    return dayofweek\n",
    "\n",
    "if __name__ == \"__main__\":\n",
    "    doctest.testmod(verbose = True)"
   ]
  },
  {
   "cell_type": "code",
   "execution_count": null,
   "metadata": {},
   "outputs": [],
   "source": []
  }
 ],
 "metadata": {
  "kernelspec": {
   "display_name": "Python 3",
   "language": "python",
   "name": "python3"
  },
  "language_info": {
   "codemirror_mode": {
    "name": "ipython",
    "version": 3
   },
   "file_extension": ".py",
   "mimetype": "text/x-python",
   "name": "python",
   "nbconvert_exporter": "python",
   "pygments_lexer": "ipython3",
   "version": "3.7.3"
  }
 },
 "nbformat": 4,
 "nbformat_minor": 2
}
