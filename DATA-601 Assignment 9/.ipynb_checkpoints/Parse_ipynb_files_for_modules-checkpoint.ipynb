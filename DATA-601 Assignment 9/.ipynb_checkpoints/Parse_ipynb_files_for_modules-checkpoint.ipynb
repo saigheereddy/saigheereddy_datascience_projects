{
 "cells": [
  {
   "cell_type": "markdown",
   "metadata": {},
   "source": [
    "# DATA 601 Introduction to Data Science (03.7420) SP2020\n",
    "## week 11 - assignment - parse ipynb files\n",
    "## Assignment Content\n",
    "Submit a notebook that finds all other notebooks used for Data 601 on your computer and generates a list of the modules used.\n",
    "Result is a list of unique modules used. The list doesn't need to include specific functions."
   ]
  },
  {
   "cell_type": "code",
   "execution_count": 1,
   "metadata": {},
   "outputs": [],
   "source": [
    "import glob\n",
    "import re\n",
    "import string"
   ]
  },
  {
   "cell_type": "code",
   "execution_count": 2,
   "metadata": {},
   "outputs": [],
   "source": [
    "def parse_jupyter_nb(filepath):\n",
    "    \"\"\"\n",
    "    The function takes the file path as input and\n",
    "    returns the list of strings containing modules.\n",
    "    \"\"\"\n",
    "    # Initially file is opened with 'utf8' encoding\n",
    "    jupyter_file = open(filepath, 'r', encoding = 'utf8')\n",
    "    \n",
    "    # readlines() method returns all the text lines as list of strings\n",
    "    file_content = jupyter_file.readlines()\n",
    "    \n",
    "    # Appending strings contains \"import<SPACE>\" or \"from<SPACE>\" words to list_of_imports using list comprehension.\n",
    "    list_of_imports = [i for i in file_content if ('import ' or 'from ') in i]\n",
    "    \n",
    "    # Closing file--\n",
    "    jupyter_file.close()\n",
    "    \n",
    "    # Returning list_of_imports\n",
    "    return list_of_imports"
   ]
  },
  {
   "cell_type": "code",
   "execution_count": 3,
   "metadata": {},
   "outputs": [],
   "source": [
    "# Empty list for getting list of .ipynb files\n",
    "list_of_files =[]\n",
    "\n",
    "# Using glob.glob() to find all the .ipynb files.\n",
    "# Here ** is used to find files in all sub directories recursively.\n",
    "# Here my \"DATA 601\" folder contains directories and sub-directories with .ipynb files.\n",
    "\n",
    "for each_file in glob.glob('/Users/G. SAI REDDY/DATA 601/**/*.ipynb', recursive = True):\n",
    "    # Appending each file path to the list_of_files list\n",
    "    list_of_files.append(each_file)"
   ]
  },
  {
   "cell_type": "code",
   "execution_count": 4,
   "metadata": {},
   "outputs": [],
   "source": [
    "# Empty list initialized for getting modules of all .ipynb files in all directories\n",
    "complete_imports_list = []\n",
    "\n",
    "# Iterating through list_of_files list, we got above.\n",
    "for each_file in list_of_files:\n",
    "    # Passing each file to the function \"parse_jupyter_nb(filepath)\" for getting list of modules.\n",
    "    a = parse_jupyter_nb(each_file)\n",
    "    \n",
    "    # Extending the returned list above to complete_imports_list.\n",
    "    complete_imports_list.extend(a)"
   ]
  },
  {
   "cell_type": "code",
   "execution_count": 5,
   "metadata": {
    "scrolled": true
   },
   "outputs": [],
   "source": [
    "# Initialized empty list for listing all the modules.\n",
    "module_list=[]\n",
    "\n",
    "# Iterating through the \"list of strings\" containing module names.\n",
    "for each_module in complete_imports_list:\n",
    "    split_list = each_module.split(' ') # Spliting each string using space character\n",
    "    removed_spaces_list = [s for s in split_list if s] # Removing all the empty spaces in the splitted list above.\n",
    "    \n",
    "    # Appending second element of each list to module_list, as \"import\" or \"from\" follows module name.\n",
    "    module_list.append(removed_spaces_list[1])"
   ]
  },
  {
   "cell_type": "code",
   "execution_count": 6,
   "metadata": {},
   "outputs": [],
   "source": [
    "# List for listing all the modules\n",
    "imp_modules = []\n",
    "\n",
    "# Iterating through the module_list of strings that contains module names.\n",
    "for each_string in module_list:\n",
    "    \n",
    "    # Removing characters \", \\n, '\"' \" from each string\n",
    "    modules = re.sub(\",|\\n|\\\"|\",\"\",each_string)\n",
    "    \n",
    "    # Spliting the string using special charcter\"\\\\\"\n",
    "    x = modules.split(\"\\\\\", 1)[0]\n",
    "    \n",
    "    # Appending each filtered string to imp_modules list\n",
    "    imp_modules.append(x)"
   ]
  },
  {
   "cell_type": "code",
   "execution_count": 7,
   "metadata": {},
   "outputs": [],
   "source": [
    "# Type casting list of modules we got above, to \"set\" for getting unique elements.\n",
    "list_to_set = set(imp_modules)\n",
    "\n",
    "# Type casting \"set\" back to \"list\" for list of unique values.\n",
    "list_of_unique_modules = list(list_to_set)"
   ]
  },
  {
   "cell_type": "markdown",
   "metadata": {},
   "source": [
    "#### Below is the list containing unique modules used in DATA 601 assignments, till now.\n",
    "\n",
    "#### Relative imports such as 'pandas.plotting', 'matplotlib.pyplot', 'nltk.corpus', 'xml.etree.ElementTree' etc. are considered as unique modules, since they have special packages within them "
   ]
  },
  {
   "cell_type": "code",
   "execution_count": 8,
   "metadata": {},
   "outputs": [
    {
     "data": {
      "text/plain": [
       "['io',\n",
       " 'zipfile',\n",
       " 'doctest',\n",
       " 'datetime',\n",
       " 'openpyxl',\n",
       " 'sys',\n",
       " 'glob',\n",
       " 'bs4',\n",
       " 'random',\n",
       " 'string',\n",
       " 'docx',\n",
       " 'requests',\n",
       " 'pandas.plotting',\n",
       " 'nltk.corpus',\n",
       " 'xml.etree.ElementTree',\n",
       " 're',\n",
       " 'pandas',\n",
       " 'numpy',\n",
       " 'matplotlib.pyplot',\n",
       " 'seaborn']"
      ]
     },
     "execution_count": 8,
     "metadata": {},
     "output_type": "execute_result"
    }
   ],
   "source": [
    "list_of_unique_modules"
   ]
  },
  {
   "cell_type": "code",
   "execution_count": null,
   "metadata": {},
   "outputs": [],
   "source": []
  }
 ],
 "metadata": {
  "kernelspec": {
   "display_name": "Python 3",
   "language": "python",
   "name": "python3"
  },
  "language_info": {
   "codemirror_mode": {
    "name": "ipython",
    "version": 3
   },
   "file_extension": ".py",
   "mimetype": "text/x-python",
   "name": "python",
   "nbconvert_exporter": "python",
   "pygments_lexer": "ipython3",
   "version": "3.7.3"
  }
 },
 "nbformat": 4,
 "nbformat_minor": 2
}
