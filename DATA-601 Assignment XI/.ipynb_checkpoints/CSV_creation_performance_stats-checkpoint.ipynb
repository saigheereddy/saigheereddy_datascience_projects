{
 "cells": [
  {
   "cell_type": "markdown",
   "metadata": {},
   "source": [
    "# DATA 601 Introduction to Data Science (03.7420) SP2020\n",
    "## week 12 - scaling of CSV file I/O\n",
    "\n",
    "### Assignment Content:\n",
    "Write Python code that can create a CSV containing 10 columns of text data.\n",
    "Each entry in each row should be between 3 and 25 characters.\n",
    "Adjacent rows in a CSV should not be the same.\n",
    "Generate files of size {0.1, 1, 5, 10, 100, 500} MB of data.\n",
    "Execution time for creating all of the data to be written to file should take less than 5 minutes."
   ]
  },
  {
   "cell_type": "code",
   "execution_count": 1,
   "metadata": {},
   "outputs": [],
   "source": [
    "from random import sample, randrange\n",
    "from os.path import getsize\n",
    "from csv import writer\n",
    "from string import ascii_letters\n",
    "import matplotlib.pyplot as plt\n",
    "import seaborn as sns\n",
    "import pandas as pd\n",
    "import time\n",
    "import os"
   ]
  },
  {
   "cell_type": "code",
   "execution_count": 2,
   "metadata": {},
   "outputs": [],
   "source": [
    "def create_csv_data(file_name, file_size):\n",
    "    \"\"\"\n",
    "    This function takes filename and filesize as arguments and,\n",
    "    returns the time taken for each file creation\n",
    "    \"\"\"\n",
    "    # Creating of file object with opening in appending mode\n",
    "    fileobj = open(file_name, 'a', newline='')\n",
    "    \n",
    "    # Creating CSV writer object\n",
    "    writer_1 = writer(fileobj)\n",
    "    \n",
    "    # Start timer\n",
    "    start = time.time()\n",
    "    \n",
    "    # Loop runs until file meets required filesize\n",
    "    while True:\n",
    "        if getsize(file_name) < file_size:\n",
    "            # Inserting each row with randomly generated values for 10 columns\n",
    "            writer_1.writerow([\"\".join(sample(ascii_letters, randrange(3,25))) for i in range(10)])\n",
    "        else:\n",
    "            # End time\n",
    "            end = time.time()\n",
    "            # Closing file\n",
    "            fileobj.close()\n",
    "            break\n",
    "    # Returning the time taken for each file creation\n",
    "    return end-start"
   ]
  },
  {
   "cell_type": "code",
   "execution_count": 3,
   "metadata": {},
   "outputs": [],
   "source": [
    "def read_data(file_name):\n",
    "    \"\"\"\n",
    "    This file takes \"filname\" as input and\n",
    "    returns \"readtime\" of each file\n",
    "    \"\"\"\n",
    "    # Start time\n",
    "    start = time.time()\n",
    "    \n",
    "    # Reading the file passed\n",
    "    pd.read_csv(file_name)\n",
    "    \n",
    "    # End time\n",
    "    end = time.time()\n",
    "    \n",
    "    # Returing the difference of start and end time\n",
    "    return end-start"
   ]
  },
  {
   "cell_type": "code",
   "execution_count": 4,
   "metadata": {},
   "outputs": [],
   "source": [
    "# Creating directories of each file size\n",
    "os.mkdir('01MB')\n",
    "os.mkdir('1MB')\n",
    "os.mkdir('5MB')\n",
    "os.mkdir('10MB')\n",
    "os.mkdir('100MB')\n",
    "os.mkdir('500MB')"
   ]
  },
  {
   "cell_type": "code",
   "execution_count": 19,
   "metadata": {},
   "outputs": [],
   "source": [
    "# Creating empty dataframes for inserting read and write speeds of each file created.\n",
    "df_results_read = pd.DataFrame(index=['0.1MB', '1MB', '5MB', '10MB', '100MB', '500MB'], columns=['file1','file2','file3'])\n",
    "df_results_write = pd.DataFrame(index=['0.1MB', '1MB', '5MB', '10MB', '100MB', '500MB'], columns=['file1','file2','file3'])"
   ]
  },
  {
   "cell_type": "code",
   "execution_count": 6,
   "metadata": {
    "scrolled": true
   },
   "outputs": [
    {
     "data": {
      "text/html": [
       "<div>\n",
       "<style scoped>\n",
       "    .dataframe tbody tr th:only-of-type {\n",
       "        vertical-align: middle;\n",
       "    }\n",
       "\n",
       "    .dataframe tbody tr th {\n",
       "        vertical-align: top;\n",
       "    }\n",
       "\n",
       "    .dataframe thead th {\n",
       "        text-align: right;\n",
       "    }\n",
       "</style>\n",
       "<table border=\"1\" class=\"dataframe\">\n",
       "  <thead>\n",
       "    <tr style=\"text-align: right;\">\n",
       "      <th></th>\n",
       "      <th>file1</th>\n",
       "      <th>file2</th>\n",
       "      <th>file3</th>\n",
       "    </tr>\n",
       "  </thead>\n",
       "  <tbody>\n",
       "    <tr>\n",
       "      <th>0.1MB</th>\n",
       "      <td>0.147561</td>\n",
       "      <td>0.155625</td>\n",
       "      <td>0.137245</td>\n",
       "    </tr>\n",
       "    <tr>\n",
       "      <th>1MB</th>\n",
       "      <td>1.1798</td>\n",
       "      <td>1.36033</td>\n",
       "      <td>1.44835</td>\n",
       "    </tr>\n",
       "    <tr>\n",
       "      <th>5MB</th>\n",
       "      <td>6.24704</td>\n",
       "      <td>6.94206</td>\n",
       "      <td>7.70763</td>\n",
       "    </tr>\n",
       "    <tr>\n",
       "      <th>10MB</th>\n",
       "      <td>12.6056</td>\n",
       "      <td>14.0722</td>\n",
       "      <td>13.8836</td>\n",
       "    </tr>\n",
       "    <tr>\n",
       "      <th>100MB</th>\n",
       "      <td>133.688</td>\n",
       "      <td>143.342</td>\n",
       "      <td>136.066</td>\n",
       "    </tr>\n",
       "    <tr>\n",
       "      <th>500MB</th>\n",
       "      <td>687.608</td>\n",
       "      <td>661.464</td>\n",
       "      <td>720.163</td>\n",
       "    </tr>\n",
       "  </tbody>\n",
       "</table>\n",
       "</div>"
      ],
      "text/plain": [
       "          file1     file2     file3\n",
       "0.1MB  0.147561  0.155625  0.137245\n",
       "1MB      1.1798   1.36033   1.44835\n",
       "5MB     6.24704   6.94206   7.70763\n",
       "10MB    12.6056   14.0722   13.8836\n",
       "100MB   133.688   143.342   136.066\n",
       "500MB   687.608   661.464   720.163"
      ]
     },
     "execution_count": 6,
     "metadata": {},
     "output_type": "execute_result"
    }
   ],
   "source": [
    "for i in range(3):\n",
    "    # Writing each \"Write time\" returned from \"create_csv_data\" to the dataframe created above\n",
    "    df_results_write['file{}'.format(i+1)]['0.1MB'] = create_csv_data('01MB/file{}.csv'.format(i+1),100000)\n",
    "    df_results_write['file{}'.format(i+1)]['1MB'] = create_csv_data('1MB/file{}.csv'.format(i+1),1000000)\n",
    "    df_results_write['file{}'.format(i+1)]['5MB'] = create_csv_data('5MB/file{}.csv'.format(i+1),5000000)\n",
    "    df_results_write['file{}'.format(i+1)]['10MB'] = create_csv_data('10MB/file{}.csv'.format(i+1),10000000)\n",
    "    df_results_write['file{}'.format(i+1)]['100MB'] = create_csv_data('100MB/file{}.csv'.format(i+1),100000000)\n",
    "    df_results_write['file{}'.format(i+1)]['500MB'] = create_csv_data('500MB/file{}.csv'.format(i+1),500000000)\n",
    "# Write times of each file\n",
    "df_results_write"
   ]
  },
  {
   "cell_type": "code",
   "execution_count": 20,
   "metadata": {},
   "outputs": [],
   "source": [
    "for i in range(3):\n",
    "    # Writing each \"Read time\" returned from \"read_data\" to the dataframe \"df_results_read\" created above.\n",
    "    df_results_read['file{}'.format(i+1)]['0.1MB'] = read_data('01MB/file{}.csv'.format(i+1))\n",
    "    df_results_read['file{}'.format(i+1)]['1MB'] = read_data('1MB/file{}.csv'.format(i+1))\n",
    "    df_results_read['file{}'.format(i+1)]['5MB'] = read_data('5MB/file{}.csv'.format(i+1))\n",
    "    df_results_read['file{}'.format(i+1)]['10MB'] = read_data('10MB/file{}.csv'.format(i+1))\n",
    "    df_results_read['file{}'.format(i+1)]['100MB'] = read_data('100MB/file{}.csv'.format(i+1))\n",
    "    df_results_read['file{}'.format(i+1)]['500MB'] = read_data('500MB/10file{}.csv'.format(i+1))"
   ]
  },
  {
   "cell_type": "code",
   "execution_count": 21,
   "metadata": {},
   "outputs": [
    {
     "data": {
      "text/html": [
       "<div>\n",
       "<style scoped>\n",
       "    .dataframe tbody tr th:only-of-type {\n",
       "        vertical-align: middle;\n",
       "    }\n",
       "\n",
       "    .dataframe tbody tr th {\n",
       "        vertical-align: top;\n",
       "    }\n",
       "\n",
       "    .dataframe thead th {\n",
       "        text-align: right;\n",
       "    }\n",
       "</style>\n",
       "<table border=\"1\" class=\"dataframe\">\n",
       "  <thead>\n",
       "    <tr style=\"text-align: right;\">\n",
       "      <th></th>\n",
       "      <th>file1</th>\n",
       "      <th>file2</th>\n",
       "      <th>file3</th>\n",
       "    </tr>\n",
       "  </thead>\n",
       "  <tbody>\n",
       "    <tr>\n",
       "      <th>0.1MB</th>\n",
       "      <td>0.0198338</td>\n",
       "      <td>0.131432</td>\n",
       "      <td>0.0610981</td>\n",
       "    </tr>\n",
       "    <tr>\n",
       "      <th>1MB</th>\n",
       "      <td>0.0991473</td>\n",
       "      <td>0.0847607</td>\n",
       "      <td>0.153424</td>\n",
       "    </tr>\n",
       "    <tr>\n",
       "      <th>5MB</th>\n",
       "      <td>0.401202</td>\n",
       "      <td>1.68907</td>\n",
       "      <td>0.528893</td>\n",
       "    </tr>\n",
       "    <tr>\n",
       "      <th>10MB</th>\n",
       "      <td>0.835128</td>\n",
       "      <td>1.46911</td>\n",
       "      <td>1.13158</td>\n",
       "    </tr>\n",
       "    <tr>\n",
       "      <th>100MB</th>\n",
       "      <td>7.02195</td>\n",
       "      <td>14.3038</td>\n",
       "      <td>9.21712</td>\n",
       "    </tr>\n",
       "    <tr>\n",
       "      <th>500MB</th>\n",
       "      <td>39.9013</td>\n",
       "      <td>50.0054</td>\n",
       "      <td>47.9643</td>\n",
       "    </tr>\n",
       "  </tbody>\n",
       "</table>\n",
       "</div>"
      ],
      "text/plain": [
       "           file1      file2      file3\n",
       "0.1MB  0.0198338   0.131432  0.0610981\n",
       "1MB    0.0991473  0.0847607   0.153424\n",
       "5MB     0.401202    1.68907   0.528893\n",
       "10MB    0.835128    1.46911    1.13158\n",
       "100MB    7.02195    14.3038    9.21712\n",
       "500MB    39.9013    50.0054    47.9643"
      ]
     },
     "execution_count": 21,
     "metadata": {},
     "output_type": "execute_result"
    }
   ],
   "source": [
    "# Read times of each file\n",
    "df_results_read"
   ]
  },
  {
   "cell_type": "markdown",
   "metadata": {},
   "source": [
    "## -- Average read and Write speeds of each csv file"
   ]
  },
  {
   "cell_type": "code",
   "execution_count": 37,
   "metadata": {},
   "outputs": [
    {
     "data": {
      "text/plain": [
       "0.1MB      0.146810\n",
       "1MB        1.329492\n",
       "5MB        6.965578\n",
       "10MB      13.520483\n",
       "100MB    137.698385\n",
       "500MB    689.745311\n",
       "dtype: float64"
      ]
     },
     "execution_count": 37,
     "metadata": {},
     "output_type": "execute_result"
    }
   ],
   "source": [
    "# calculating mean across the columns for each row ( axis =1)\n",
    "df_write_average = df_results_write.mean(axis=1)\n",
    "df_write_average"
   ]
  },
  {
   "cell_type": "code",
   "execution_count": 38,
   "metadata": {},
   "outputs": [
    {
     "data": {
      "text/plain": [
       "0.1MB     0.070788\n",
       "1MB       0.112444\n",
       "5MB       0.873055\n",
       "10MB      1.145273\n",
       "100MB    10.180964\n",
       "500MB    45.957013\n",
       "dtype: float64"
      ]
     },
     "execution_count": 38,
     "metadata": {},
     "output_type": "execute_result"
    }
   ],
   "source": [
    "# calculating mean across the columns for each row ( axis =1)\n",
    "df_read_average = df_results_read.mean(axis=1)\n",
    "df_read_average"
   ]
  },
  {
   "cell_type": "markdown",
   "metadata": {},
   "source": [
    "## --Plotting Read, Write mean values of all files against the fize size"
   ]
  },
  {
   "cell_type": "code",
   "execution_count": 36,
   "metadata": {},
   "outputs": [
    {
     "data": {
      "image/png": "[encoded data removed]",
      "text/plain": [
       "<Figure size 432x288 with 1 Axes>"
      ]
     },
     "metadata": {},
     "output_type": "display_data"
    }
   ],
   "source": [
    "fig, ax= plt.subplots()\n",
    "ax.scatter([0.1, 1, 5, 10, 100, 500], [df_read_average], alpha = 0.7, label='Mean Read Time')\n",
    "ax.scatter( [0.1, 1,  5, 10, 100, 500], [df_write_average] , alpha = 0.7, label='Mean Write Time')\n",
    "ax.set_xscale('log')\n",
    "ax.set_xlabel('File Size')\n",
    "ax.set_ylabel('Log')\n",
    "ax.set_title('Mean Read and Write Time')\n",
    "plt.legend()\n",
    "plt.show()"
   ]
  },
  {
   "cell_type": "code",
   "execution_count": null,
   "metadata": {},
   "outputs": [],
   "source": []
  }
 ],
 "metadata": {
  "kernelspec": {
   "display_name": "Python 3",
   "language": "python",
   "name": "python3"
  },
  "language_info": {
   "codemirror_mode": {
    "name": "ipython",
    "version": 3
   },
   "file_extension": ".py",
   "mimetype": "text/x-python",
   "name": "python",
   "nbconvert_exporter": "python",
   "pygments_lexer": "ipython3",
   "version": "3.7.3"
  }
 },
 "nbformat": 4,
 "nbformat_minor": 2
}
